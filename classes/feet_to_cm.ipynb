{
 "cells": [
  {
   "cell_type": "markdown",
   "metadata": {},
   "source": [
    "Feet to Cm"
   ]
  },
  {
   "cell_type": "code",
   "execution_count": 6,
   "metadata": {},
   "outputs": [
    {
     "name": "stdout",
     "output_type": "stream",
     "text": [
      "1.0 feet is equal to 30.48 centimeters.\n"
     ]
    }
   ],
   "source": [
    "def feet_to_cm(feet):\n",
    "    # Convert feet to centimeters using the conversion factor (1 foot = 30.48 cm)\n",
    "    cm = feet * 30.48\n",
    "    return cm\n",
    "\n",
    "# Prompt the user to enter a value in feet\n",
    "user_input = float(input(\"Enter a value in feet: \"))\n",
    "\n",
    "# Perform the conversion by calling the function and store the result\n",
    "cm_result = feet_to_cm(user_input)\n",
    "\n",
    "# Print the result of the conversion\n",
    "print(f\"{user_input} feet is equal to {cm_result:.2f} centimeters.\")"
   ]
  }
 ],
 "metadata": {
  "kernelspec": {
   "display_name": "Python 3",
   "language": "python",
   "name": "python3"
  },
  "language_info": {
   "codemirror_mode": {
    "name": "ipython",
    "version": 3
   },
   "file_extension": ".py",
   "mimetype": "text/x-python",
   "name": "python",
   "nbconvert_exporter": "python",
   "pygments_lexer": "ipython3",
   "version": "3.12.1"
  }
 },
 "nbformat": 4,
 "nbformat_minor": 2
}
