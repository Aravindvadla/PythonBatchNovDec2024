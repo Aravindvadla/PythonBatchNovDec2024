{
 "cells": [
  {
   "cell_type": "markdown",
   "metadata": {},
   "source": [
    "Hexa decimal to Octal"
   ]
  },
  {
   "cell_type": "code",
   "execution_count": 1,
   "metadata": {},
   "outputs": [
    {
     "name": "stdout",
     "output_type": "stream",
     "text": [
      "The octal equivalent of hexadecimal number 1a is 0o32.\n"
     ]
    }
   ],
   "source": [
    "def hex_to_oct(hex_num):\n",
    "    # Convert the hexadecimal number to a decimal number\n",
    "    decimal_num = int(hex_num, 16)\n",
    "    # Convert the decimal number to an octal number\n",
    "    octal_num = oct(decimal_num)\n",
    "    return octal_num\n",
    "\n",
    "# Prompt the user to input a hexadecimal number\n",
    "user_input = input(\"Enter a hexadecimal number (e.g., 1A, FF, etc.): \")\n",
    "\n",
    "# Perform the conversion by calling the function and store the result\n",
    "octal_result = hex_to_oct(user_input)\n",
    "\n",
    "# Print the result of the conversion\n",
    "print(f\"The octal equivalent of hexadecimal number {user_input} is {octal_result}.\")"
   ]
  },
  {
   "cell_type": "markdown",
   "metadata": {},
   "source": [
    "Octal to Hexa decimal"
   ]
  },
  {
   "cell_type": "code",
   "execution_count": 2,
   "metadata": {},
   "outputs": [
    {
     "name": "stdout",
     "output_type": "stream",
     "text": [
      "The hexadecimal equivalent of octal number 45 is 0x25.\n"
     ]
    }
   ],
   "source": [
    "def oct_to_hex(oct_num):\n",
    "    # Convert the octal number to a decimal number\n",
    "    decimal_num = int(oct_num, 8)\n",
    "    # Convert the decimal number to a hexadecimal number\n",
    "    hex_num = hex(decimal_num)\n",
    "    return hex_num\n",
    "\n",
    "# Prompt the user to input an octal number\n",
    "user_input = input(\"Enter an octal number (e.g., 17, 45, etc.): \")\n",
    "\n",
    "# Perform the conversion by calling the function and store the result\n",
    "hex_result = oct_to_hex(user_input)\n",
    "\n",
    "# Print the result of the conversion\n",
    "print(f\"The hexadecimal equivalent of octal number {user_input} is {hex_result}.\")"
   ]
  }
 ],
 "metadata": {
  "kernelspec": {
   "display_name": "Python 3",
   "language": "python",
   "name": "python3"
  },
  "language_info": {
   "codemirror_mode": {
    "name": "ipython",
    "version": 3
   },
   "file_extension": ".py",
   "mimetype": "text/x-python",
   "name": "python",
   "nbconvert_exporter": "python",
   "pygments_lexer": "ipython3",
   "version": "3.12.1"
  }
 },
 "nbformat": 4,
 "nbformat_minor": 2
}
